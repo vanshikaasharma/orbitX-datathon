{
 "cells": [
  {
   "cell_type": "code",
   "execution_count": 1,
   "id": "090cbb0e-adf5-459a-a920-7e6aa2d96228",
   "metadata": {},
   "outputs": [
    {
     "name": "stdout",
     "output_type": "stream",
     "text": [
      "Intel MKL WARNING: Support of Intel(R) Streaming SIMD Extensions 4.2 (Intel(R) SSE4.2) enabled only processors has been deprecated. Intel oneAPI Math Kernel Library 2025.0 will require Intel(R) Advanced Vector Extensions (Intel(R) AVX) instructions.\n",
      "Intel MKL WARNING: Support of Intel(R) Streaming SIMD Extensions 4.2 (Intel(R) SSE4.2) enabled only processors has been deprecated. Intel oneAPI Math Kernel Library 2025.0 will require Intel(R) Advanced Vector Extensions (Intel(R) AVX) instructions.\n",
      "   latitude  longitude  brightness  scan  track    acq_date  acq_time  \\\n",
      "0   53.4971  -117.9781       375.0   1.5    1.2  2023-01-02      1915   \n",
      "1   53.4998  -117.9604       361.8   1.5    1.2  2023-01-02      1915   \n",
      "2   53.4929  -117.9582       377.4   1.5    1.2  2023-01-02      1915   \n",
      "3   53.4950  -117.9712       374.5   1.0    1.0  2023-01-02      2048   \n",
      "4   56.7794  -118.0159       314.9   1.3    1.1  2023-01-03       450   \n",
      "\n",
      "  satellite instrument  confidence  version  bright_t31   frp daynight  type  \n",
      "0     Terra      MODIS         100    61.03       265.7   0.0        D     0  \n",
      "1     Terra      MODIS          91    61.03       267.0   0.0        D     0  \n",
      "2     Terra      MODIS         100    61.03       266.3   0.0        D     0  \n",
      "3      Aqua      MODIS         100    61.03       267.7   0.0        D     0  \n",
      "4     Terra      MODIS          87    61.03       266.6  28.1        N     0  \n"
     ]
    }
   ],
   "source": [
    "import pandas as pd\n",
    "\n",
    "# Read the CSV file\n",
    "df = pd.read_csv('modis_2023_Canada.csv')\n",
    "\n",
    "# Filter for latitude and longitude in BC range\n",
    "bc_df = df[\n",
    "    (df['latitude'] >= 48.3) & (df['latitude'] <= 60.0) &\n",
    "    (df['longitude'] >= -139.0) & (df['longitude'] <= -114.0)\n",
    "]\n",
    "\n",
    "# Preview the result\n",
    "print(bc_df.head())\n"
   ]
  },
  {
   "cell_type": "code",
   "execution_count": 3,
   "id": "d468d087-21ed-4690-991f-110576b3a599",
   "metadata": {},
   "outputs": [
    {
     "data": {
      "text/plain": [
       "(130046, 15)"
      ]
     },
     "execution_count": 3,
     "metadata": {},
     "output_type": "execute_result"
    }
   ],
   "source": [
    "bc_df.shape"
   ]
  },
  {
   "cell_type": "code",
   "execution_count": 4,
   "id": "59da8314-8fc9-40c9-9075-f0eea03c5aa5",
   "metadata": {},
   "outputs": [
    {
     "data": {
      "text/plain": [
       "(324003, 15)"
      ]
     },
     "execution_count": 4,
     "metadata": {},
     "output_type": "execute_result"
    }
   ],
   "source": [
    "df.shape"
   ]
  },
  {
   "cell_type": "code",
   "execution_count": 9,
   "id": "be79e3af-a8af-4463-a065-14af911fb23a",
   "metadata": {},
   "outputs": [
    {
     "name": "stdout",
     "output_type": "stream",
     "text": [
      "   latitude  longitude  brightness  scan  track    acq_date  acq_time  \\\n",
      "0   53.4971  -117.9781       375.0   1.5    1.2  2023-01-02      1915   \n",
      "1   53.4998  -117.9604       361.8   1.5    1.2  2023-01-02      1915   \n",
      "2   53.4929  -117.9582       377.4   1.5    1.2  2023-01-02      1915   \n",
      "3   53.4950  -117.9712       374.5   1.0    1.0  2023-01-02      2048   \n",
      "4   56.7794  -118.0159       314.9   1.3    1.1  2023-01-03       450   \n",
      "\n",
      "  satellite instrument  confidence  version  bright_t31   frp daynight  type  \n",
      "0     Terra      MODIS         100    61.03       265.7   0.0        D     0  \n",
      "1     Terra      MODIS          91    61.03       267.0   0.0        D     0  \n",
      "2     Terra      MODIS         100    61.03       266.3   0.0        D     0  \n",
      "3      Aqua      MODIS         100    61.03       267.7   0.0        D     0  \n",
      "4     Terra      MODIS          87    61.03       266.6  28.1        N     0  \n"
     ]
    }
   ],
   "source": [
    "\n",
    "ab_df = df[\n",
    "    (df['latitude'] >= 48.9) & (df['latitude'] <= 60.0) &\n",
    "    (df['longitude'] >= -120.0) & (df['longitude'] <= -110.0) &\n",
    "    (df['type'] == 0)\n",
    "]\n",
    "\n",
    "print(ab_df.head())\n"
   ]
  },
  {
   "cell_type": "code",
   "execution_count": 10,
   "id": "2f13c924-0793-4b86-b454-16bf1f6627da",
   "metadata": {},
   "outputs": [
    {
     "data": {
      "text/plain": [
       "(88040, 15)"
      ]
     },
     "execution_count": 10,
     "metadata": {},
     "output_type": "execute_result"
    }
   ],
   "source": [
    "ab_df.shape"
   ]
  },
  {
   "cell_type": "code",
   "execution_count": 8,
   "id": "3ea79c2d-7461-4657-84b6-89efaaf31021",
   "metadata": {},
   "outputs": [],
   "source": [
    "ab_df.to_csv('wildfires_alberta_only.csv', index=False)"
   ]
  },
  {
   "cell_type": "code",
   "execution_count": null,
   "id": "f9710bc3-7e64-4668-84fe-f76004f58ac0",
   "metadata": {},
   "outputs": [],
   "source": []
  }
 ],
 "metadata": {
  "kernelspec": {
   "display_name": "Python 3 (ipykernel)",
   "language": "python",
   "name": "python3"
  },
  "language_info": {
   "codemirror_mode": {
    "name": "ipython",
    "version": 3
   },
   "file_extension": ".py",
   "mimetype": "text/x-python",
   "name": "python",
   "nbconvert_exporter": "python",
   "pygments_lexer": "ipython3",
   "version": "3.12.9"
  }
 },
 "nbformat": 4,
 "nbformat_minor": 5
}
